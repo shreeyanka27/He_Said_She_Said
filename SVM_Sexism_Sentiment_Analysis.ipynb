{
  "nbformat": 4,
  "nbformat_minor": 0,
  "metadata": {
    "colab": {
      "provenance": []
    },
    "kernelspec": {
      "name": "python3",
      "display_name": "Python 3"
    },
    "language_info": {
      "name": "python"
    }
  },
  "cells": [
    {
      "cell_type": "code",
      "execution_count": null,
      "metadata": {
        "id": "HoPfnLiCj79D"
      },
      "outputs": [],
      "source": [
        "import pandas as pd\n",
        "import numpy as np\n",
        "from sklearn.model_selection import train_test_split\n",
        "from sklearn.feature_extraction.text import TfidfVectorizer\n",
        "import time\n",
        "from sklearn import svm\n",
        "from sklearn.metrics import classification_report\n",
        "import pickle"
      ]
    },
    {
      "cell_type": "code",
      "source": [
        "df = pd.read_csv('/content/dataset.csv')"
      ],
      "metadata": {
        "id": "GyXHHpmSj_J5"
      },
      "execution_count": null,
      "outputs": []
    },
    {
      "cell_type": "code",
      "source": [
        "df = df[df[\"Text\"].notnull()]"
      ],
      "metadata": {
        "id": "vVb2ahGeo6Lr"
      },
      "execution_count": null,
      "outputs": []
    },
    {
      "cell_type": "code",
      "source": [
        "df"
      ],
      "metadata": {
        "colab": {
          "base_uri": "https://localhost:8080/",
          "height": 423
        },
        "id": "zqFHWqflpCC8",
        "outputId": "8e3fbf8d-89ed-4b03-dac1-2fc62920a831"
      },
      "execution_count": null,
      "outputs": [
        {
          "output_type": "execute_result",
          "data": {
            "text/plain": [
              "       Unnamed: 0                                               Text  \\\n",
              "0               0  Thanks  man. I don't really want to talk to yo...   \n",
              "1               1                   and then the drive took forever.   \n",
              "2               2                         You know  he shouldn't be.   \n",
              "3               3      Well  I apologize for ruining our first date.   \n",
              "4               4                    Yes  but this is America  wuss.   \n",
              "...           ...                                                ...   \n",
              "33568        2005             MR. Nes toR: OK  bullethead - you try.   \n",
              "33569        2006                                         Math Class   \n",
              "33570        2007  But standing there...I knew I couldn't fix wha...   \n",
              "33571        2008      Still  I made it a point to keep my distance.   \n",
              "33572        2009                                      JACK: Karen!    \n",
              "\n",
              "      Annotation           Show  \n",
              "0        neutral  That 70s Show  \n",
              "1        neutral  That 70s Show  \n",
              "2        neutral  That 70s Show  \n",
              "3        neutral  That 70s Show  \n",
              "4        neutral  That 70s Show  \n",
              "...          ...            ...  \n",
              "33568    neutral   Wonder Years  \n",
              "33569    neutral   Wonder Years  \n",
              "33570    neutral   Wonder Years  \n",
              "33571    neutral   Wonder Years  \n",
              "33572    neutral   Wonder Years  \n",
              "\n",
              "[33570 rows x 4 columns]"
            ],
            "text/html": [
              "\n",
              "  <div id=\"df-0d628e83-4940-4f86-b3d7-a8c72d84fa03\">\n",
              "    <div class=\"colab-df-container\">\n",
              "      <div>\n",
              "<style scoped>\n",
              "    .dataframe tbody tr th:only-of-type {\n",
              "        vertical-align: middle;\n",
              "    }\n",
              "\n",
              "    .dataframe tbody tr th {\n",
              "        vertical-align: top;\n",
              "    }\n",
              "\n",
              "    .dataframe thead th {\n",
              "        text-align: right;\n",
              "    }\n",
              "</style>\n",
              "<table border=\"1\" class=\"dataframe\">\n",
              "  <thead>\n",
              "    <tr style=\"text-align: right;\">\n",
              "      <th></th>\n",
              "      <th>Unnamed: 0</th>\n",
              "      <th>Text</th>\n",
              "      <th>Annotation</th>\n",
              "      <th>Show</th>\n",
              "    </tr>\n",
              "  </thead>\n",
              "  <tbody>\n",
              "    <tr>\n",
              "      <th>0</th>\n",
              "      <td>0</td>\n",
              "      <td>Thanks  man. I don't really want to talk to yo...</td>\n",
              "      <td>neutral</td>\n",
              "      <td>That 70s Show</td>\n",
              "    </tr>\n",
              "    <tr>\n",
              "      <th>1</th>\n",
              "      <td>1</td>\n",
              "      <td>and then the drive took forever.</td>\n",
              "      <td>neutral</td>\n",
              "      <td>That 70s Show</td>\n",
              "    </tr>\n",
              "    <tr>\n",
              "      <th>2</th>\n",
              "      <td>2</td>\n",
              "      <td>You know  he shouldn't be.</td>\n",
              "      <td>neutral</td>\n",
              "      <td>That 70s Show</td>\n",
              "    </tr>\n",
              "    <tr>\n",
              "      <th>3</th>\n",
              "      <td>3</td>\n",
              "      <td>Well  I apologize for ruining our first date.</td>\n",
              "      <td>neutral</td>\n",
              "      <td>That 70s Show</td>\n",
              "    </tr>\n",
              "    <tr>\n",
              "      <th>4</th>\n",
              "      <td>4</td>\n",
              "      <td>Yes  but this is America  wuss.</td>\n",
              "      <td>neutral</td>\n",
              "      <td>That 70s Show</td>\n",
              "    </tr>\n",
              "    <tr>\n",
              "      <th>...</th>\n",
              "      <td>...</td>\n",
              "      <td>...</td>\n",
              "      <td>...</td>\n",
              "      <td>...</td>\n",
              "    </tr>\n",
              "    <tr>\n",
              "      <th>33568</th>\n",
              "      <td>2005</td>\n",
              "      <td>MR. Nes toR: OK  bullethead - you try.</td>\n",
              "      <td>neutral</td>\n",
              "      <td>Wonder Years</td>\n",
              "    </tr>\n",
              "    <tr>\n",
              "      <th>33569</th>\n",
              "      <td>2006</td>\n",
              "      <td>Math Class</td>\n",
              "      <td>neutral</td>\n",
              "      <td>Wonder Years</td>\n",
              "    </tr>\n",
              "    <tr>\n",
              "      <th>33570</th>\n",
              "      <td>2007</td>\n",
              "      <td>But standing there...I knew I couldn't fix wha...</td>\n",
              "      <td>neutral</td>\n",
              "      <td>Wonder Years</td>\n",
              "    </tr>\n",
              "    <tr>\n",
              "      <th>33571</th>\n",
              "      <td>2008</td>\n",
              "      <td>Still  I made it a point to keep my distance.</td>\n",
              "      <td>neutral</td>\n",
              "      <td>Wonder Years</td>\n",
              "    </tr>\n",
              "    <tr>\n",
              "      <th>33572</th>\n",
              "      <td>2009</td>\n",
              "      <td>JACK: Karen!</td>\n",
              "      <td>neutral</td>\n",
              "      <td>Wonder Years</td>\n",
              "    </tr>\n",
              "  </tbody>\n",
              "</table>\n",
              "<p>33570 rows × 4 columns</p>\n",
              "</div>\n",
              "      <button class=\"colab-df-convert\" onclick=\"convertToInteractive('df-0d628e83-4940-4f86-b3d7-a8c72d84fa03')\"\n",
              "              title=\"Convert this dataframe to an interactive table.\"\n",
              "              style=\"display:none;\">\n",
              "        \n",
              "  <svg xmlns=\"http://www.w3.org/2000/svg\" height=\"24px\"viewBox=\"0 0 24 24\"\n",
              "       width=\"24px\">\n",
              "    <path d=\"M0 0h24v24H0V0z\" fill=\"none\"/>\n",
              "    <path d=\"M18.56 5.44l.94 2.06.94-2.06 2.06-.94-2.06-.94-.94-2.06-.94 2.06-2.06.94zm-11 1L8.5 8.5l.94-2.06 2.06-.94-2.06-.94L8.5 2.5l-.94 2.06-2.06.94zm10 10l.94 2.06.94-2.06 2.06-.94-2.06-.94-.94-2.06-.94 2.06-2.06.94z\"/><path d=\"M17.41 7.96l-1.37-1.37c-.4-.4-.92-.59-1.43-.59-.52 0-1.04.2-1.43.59L10.3 9.45l-7.72 7.72c-.78.78-.78 2.05 0 2.83L4 21.41c.39.39.9.59 1.41.59.51 0 1.02-.2 1.41-.59l7.78-7.78 2.81-2.81c.8-.78.8-2.07 0-2.86zM5.41 20L4 18.59l7.72-7.72 1.47 1.35L5.41 20z\"/>\n",
              "  </svg>\n",
              "      </button>\n",
              "      \n",
              "  <style>\n",
              "    .colab-df-container {\n",
              "      display:flex;\n",
              "      flex-wrap:wrap;\n",
              "      gap: 12px;\n",
              "    }\n",
              "\n",
              "    .colab-df-convert {\n",
              "      background-color: #E8F0FE;\n",
              "      border: none;\n",
              "      border-radius: 50%;\n",
              "      cursor: pointer;\n",
              "      display: none;\n",
              "      fill: #1967D2;\n",
              "      height: 32px;\n",
              "      padding: 0 0 0 0;\n",
              "      width: 32px;\n",
              "    }\n",
              "\n",
              "    .colab-df-convert:hover {\n",
              "      background-color: #E2EBFA;\n",
              "      box-shadow: 0px 1px 2px rgba(60, 64, 67, 0.3), 0px 1px 3px 1px rgba(60, 64, 67, 0.15);\n",
              "      fill: #174EA6;\n",
              "    }\n",
              "\n",
              "    [theme=dark] .colab-df-convert {\n",
              "      background-color: #3B4455;\n",
              "      fill: #D2E3FC;\n",
              "    }\n",
              "\n",
              "    [theme=dark] .colab-df-convert:hover {\n",
              "      background-color: #434B5C;\n",
              "      box-shadow: 0px 1px 3px 1px rgba(0, 0, 0, 0.15);\n",
              "      filter: drop-shadow(0px 1px 2px rgba(0, 0, 0, 0.3));\n",
              "      fill: #FFFFFF;\n",
              "    }\n",
              "  </style>\n",
              "\n",
              "      <script>\n",
              "        const buttonEl =\n",
              "          document.querySelector('#df-0d628e83-4940-4f86-b3d7-a8c72d84fa03 button.colab-df-convert');\n",
              "        buttonEl.style.display =\n",
              "          google.colab.kernel.accessAllowed ? 'block' : 'none';\n",
              "\n",
              "        async function convertToInteractive(key) {\n",
              "          const element = document.querySelector('#df-0d628e83-4940-4f86-b3d7-a8c72d84fa03');\n",
              "          const dataTable =\n",
              "            await google.colab.kernel.invokeFunction('convertToInteractive',\n",
              "                                                     [key], {});\n",
              "          if (!dataTable) return;\n",
              "\n",
              "          const docLinkHtml = 'Like what you see? Visit the ' +\n",
              "            '<a target=\"_blank\" href=https://colab.research.google.com/notebooks/data_table.ipynb>data table notebook</a>'\n",
              "            + ' to learn more about interactive tables.';\n",
              "          element.innerHTML = '';\n",
              "          dataTable['output_type'] = 'display_data';\n",
              "          await google.colab.output.renderOutput(dataTable, element);\n",
              "          const docLink = document.createElement('div');\n",
              "          docLink.innerHTML = docLinkHtml;\n",
              "          element.appendChild(docLink);\n",
              "        }\n",
              "      </script>\n",
              "    </div>\n",
              "  </div>\n",
              "  "
            ]
          },
          "metadata": {},
          "execution_count": 4
        }
      ]
    },
    {
      "cell_type": "code",
      "source": [
        "X = df[['Text', 'Show']]\n",
        "y = df['Annotation']"
      ],
      "metadata": {
        "id": "8btEGp8NkL1Q"
      },
      "execution_count": null,
      "outputs": []
    },
    {
      "cell_type": "code",
      "source": [
        "X_train, X_test, y_train, y_test = train_test_split(X, y, test_size=0.20, random_state=42)"
      ],
      "metadata": {
        "id": "0qOT4S-VkNDK"
      },
      "execution_count": null,
      "outputs": []
    },
    {
      "cell_type": "code",
      "source": [
        "X_train = X_train['Text']\n",
        "X_temp = X_test\n",
        "X_test = X_test['Text']"
      ],
      "metadata": {
        "id": "xSHbnI-WekXU"
      },
      "execution_count": null,
      "outputs": []
    },
    {
      "cell_type": "code",
      "source": [
        "vectorizer = TfidfVectorizer(min_df = 5,\n",
        "                             max_df = 0.8,\n",
        "                             sublinear_tf = True,\n",
        "                             use_idf = True)\n",
        "train_vectors = vectorizer.fit_transform(X_train)\n",
        "test_vectors = vectorizer.transform(X_test)"
      ],
      "metadata": {
        "id": "YNV8_o5elgWv"
      },
      "execution_count": null,
      "outputs": []
    },
    {
      "cell_type": "code",
      "source": [
        "train_vectors"
      ],
      "metadata": {
        "colab": {
          "base_uri": "https://localhost:8080/"
        },
        "id": "vBIds9R2pZ07",
        "outputId": "4b5488b0-c7fa-429f-b1b7-d08908eea62d"
      },
      "execution_count": null,
      "outputs": [
        {
          "output_type": "execute_result",
          "data": {
            "text/plain": [
              "<26856x2411 sparse matrix of type '<class 'numpy.float64'>'\n",
              "\twith 132510 stored elements in Compressed Sparse Row format>"
            ]
          },
          "metadata": {},
          "execution_count": 9
        }
      ]
    },
    {
      "cell_type": "code",
      "source": [
        "classifier_linear = svm.SVC(kernel='linear')\n",
        "classifier_linear.fit(train_vectors, y_train)\n",
        "prediction_linear = classifier_linear.predict(test_vectors)"
      ],
      "metadata": {
        "id": "1Tb2UzoQlNqK"
      },
      "execution_count": null,
      "outputs": []
    },
    {
      "cell_type": "code",
      "source": [
        "report = classification_report(y_test, prediction_linear, output_dict=True)\n",
        "print('neutral: ', report['neutral'])\n",
        "print('sexist: ', report['sexist'])"
      ],
      "metadata": {
        "colab": {
          "base_uri": "https://localhost:8080/"
        },
        "id": "rvo6-_zfprMd",
        "outputId": "fe58c1c5-317b-483b-8bdb-7452519d8a74"
      },
      "execution_count": null,
      "outputs": [
        {
          "output_type": "stream",
          "name": "stdout",
          "text": [
            "neutral:  {'precision': 0.9928225932282727, 'recall': 0.99530736743313, 'f1-score': 0.9940634275894391, 'support': 6393}\n",
            "sexist:  {'precision': 0.9016393442622951, 'recall': 0.8566978193146417, 'f1-score': 0.8785942492012779, 'support': 321}\n"
          ]
        }
      ]
    },
    {
      "cell_type": "code",
      "source": [
        "pickle.dump(classifier_linear, open('model.sav', 'wb'))"
      ],
      "metadata": {
        "id": "EnECSivuumn5"
      },
      "execution_count": null,
      "outputs": []
    },
    {
      "cell_type": "code",
      "source": [
        "X_test = np.array(X_test)\n",
        "X_test"
      ],
      "metadata": {
        "colab": {
          "base_uri": "https://localhost:8080/"
        },
        "outputId": "4c0676f7-ce08-4719-a88e-f7e87c814b7e",
        "id": "g5I1HLSBexzb"
      },
      "execution_count": null,
      "outputs": [
        {
          "output_type": "execute_result",
          "data": {
            "text/plain": [
              "array(['- I support you.- Good.',\n",
              "       \"But it's a whole other thing to go awaywith him for the weekend to his sex cabin.\",\n",
              "       \"That's as clear\", ...,\n",
              "       \"That's how you get peoplearound here to listen to you  Bob.\",\n",
              "       'I could rifle through the manual', 'JACK : Eh!'], dtype=object)"
            ]
          },
          "metadata": {},
          "execution_count": 13
        }
      ]
    },
    {
      "cell_type": "code",
      "source": [
        "df2 = pd.DataFrame(X_test, columns=['Text'])\n",
        "df3 = pd.DataFrame(X_temp)"
      ],
      "metadata": {
        "id": "mfz9WC34BX7w"
      },
      "execution_count": null,
      "outputs": []
    },
    {
      "cell_type": "code",
      "source": [
        "s = np.array(df3['Show'])\n",
        "s"
      ],
      "metadata": {
        "colab": {
          "base_uri": "https://localhost:8080/"
        },
        "id": "-_U3SkQXbt5T",
        "outputId": "6b0cd1ee-2b16-41d0-d2a1-0ef4753ddba1"
      },
      "execution_count": null,
      "outputs": [
        {
          "output_type": "execute_result",
          "data": {
            "text/plain": [
              "array(['Parks and Recreation', 'Family Guy', 'The Office', ..., 'Scrubs',\n",
              "       'That 70s Show', 'Wonder Years'], dtype=object)"
            ]
          },
          "metadata": {},
          "execution_count": 15
        }
      ]
    },
    {
      "cell_type": "code",
      "source": [
        "for i in df2.index:\n",
        "  df2.loc[i, 'Result']=prediction_linear[i]\n",
        "  df2.loc[i, 'Show']=s[i]\n"
      ],
      "metadata": {
        "id": "dxTfj9BkCR79"
      },
      "execution_count": null,
      "outputs": []
    },
    {
      "cell_type": "code",
      "source": [
        "df2 = df2.sort_values('Show')\n",
        "df2"
      ],
      "metadata": {
        "id": "k9bXojIKDUXo",
        "colab": {
          "base_uri": "https://localhost:8080/",
          "height": 423
        },
        "outputId": "703ce2e1-f90f-498d-ac10-5f610ce3efc8"
      },
      "execution_count": null,
      "outputs": [
        {
          "output_type": "execute_result",
          "data": {
            "text/plain": [
              "                                                   Text   Result          Show\n",
              "4036                           We have to get this off.  neutral   Brooklyn 99\n",
              "3066            but we also maybe kind of already knew.  neutral   Brooklyn 99\n",
              "4285  I told you  I was in theoffice because I work ...  neutral   Brooklyn 99\n",
              "3081                 Hey  Peralta. How's it going  man?  neutral   Brooklyn 99\n",
              "2599           - Well  this isthe Department of Records  neutral   Brooklyn 99\n",
              "...                                                 ...      ...           ...\n",
              "2280                   And there you have it - logic...  neutral  Wonder Years\n",
              "1180                       Int. Evening - Kitchen Table  neutral  Wonder Years\n",
              "4607                            MADELINE: It's lovely.   neutral  Wonder Years\n",
              "573   JEWELER: Solid sterling  hollow or chrome plat...  neutral  Wonder Years\n",
              "6713                                         JACK : Eh!  neutral  Wonder Years\n",
              "\n",
              "[6714 rows x 3 columns]"
            ],
            "text/html": [
              "\n",
              "  <div id=\"df-e24d644a-b62a-4e2b-9b41-0e5dd20dc4e8\">\n",
              "    <div class=\"colab-df-container\">\n",
              "      <div>\n",
              "<style scoped>\n",
              "    .dataframe tbody tr th:only-of-type {\n",
              "        vertical-align: middle;\n",
              "    }\n",
              "\n",
              "    .dataframe tbody tr th {\n",
              "        vertical-align: top;\n",
              "    }\n",
              "\n",
              "    .dataframe thead th {\n",
              "        text-align: right;\n",
              "    }\n",
              "</style>\n",
              "<table border=\"1\" class=\"dataframe\">\n",
              "  <thead>\n",
              "    <tr style=\"text-align: right;\">\n",
              "      <th></th>\n",
              "      <th>Text</th>\n",
              "      <th>Result</th>\n",
              "      <th>Show</th>\n",
              "    </tr>\n",
              "  </thead>\n",
              "  <tbody>\n",
              "    <tr>\n",
              "      <th>4036</th>\n",
              "      <td>We have to get this off.</td>\n",
              "      <td>neutral</td>\n",
              "      <td>Brooklyn 99</td>\n",
              "    </tr>\n",
              "    <tr>\n",
              "      <th>3066</th>\n",
              "      <td>but we also maybe kind of already knew.</td>\n",
              "      <td>neutral</td>\n",
              "      <td>Brooklyn 99</td>\n",
              "    </tr>\n",
              "    <tr>\n",
              "      <th>4285</th>\n",
              "      <td>I told you  I was in theoffice because I work ...</td>\n",
              "      <td>neutral</td>\n",
              "      <td>Brooklyn 99</td>\n",
              "    </tr>\n",
              "    <tr>\n",
              "      <th>3081</th>\n",
              "      <td>Hey  Peralta. How's it going  man?</td>\n",
              "      <td>neutral</td>\n",
              "      <td>Brooklyn 99</td>\n",
              "    </tr>\n",
              "    <tr>\n",
              "      <th>2599</th>\n",
              "      <td>- Well  this isthe Department of Records</td>\n",
              "      <td>neutral</td>\n",
              "      <td>Brooklyn 99</td>\n",
              "    </tr>\n",
              "    <tr>\n",
              "      <th>...</th>\n",
              "      <td>...</td>\n",
              "      <td>...</td>\n",
              "      <td>...</td>\n",
              "    </tr>\n",
              "    <tr>\n",
              "      <th>2280</th>\n",
              "      <td>And there you have it - logic...</td>\n",
              "      <td>neutral</td>\n",
              "      <td>Wonder Years</td>\n",
              "    </tr>\n",
              "    <tr>\n",
              "      <th>1180</th>\n",
              "      <td>Int. Evening - Kitchen Table</td>\n",
              "      <td>neutral</td>\n",
              "      <td>Wonder Years</td>\n",
              "    </tr>\n",
              "    <tr>\n",
              "      <th>4607</th>\n",
              "      <td>MADELINE: It's lovely.</td>\n",
              "      <td>neutral</td>\n",
              "      <td>Wonder Years</td>\n",
              "    </tr>\n",
              "    <tr>\n",
              "      <th>573</th>\n",
              "      <td>JEWELER: Solid sterling  hollow or chrome plat...</td>\n",
              "      <td>neutral</td>\n",
              "      <td>Wonder Years</td>\n",
              "    </tr>\n",
              "    <tr>\n",
              "      <th>6713</th>\n",
              "      <td>JACK : Eh!</td>\n",
              "      <td>neutral</td>\n",
              "      <td>Wonder Years</td>\n",
              "    </tr>\n",
              "  </tbody>\n",
              "</table>\n",
              "<p>6714 rows × 3 columns</p>\n",
              "</div>\n",
              "      <button class=\"colab-df-convert\" onclick=\"convertToInteractive('df-e24d644a-b62a-4e2b-9b41-0e5dd20dc4e8')\"\n",
              "              title=\"Convert this dataframe to an interactive table.\"\n",
              "              style=\"display:none;\">\n",
              "        \n",
              "  <svg xmlns=\"http://www.w3.org/2000/svg\" height=\"24px\"viewBox=\"0 0 24 24\"\n",
              "       width=\"24px\">\n",
              "    <path d=\"M0 0h24v24H0V0z\" fill=\"none\"/>\n",
              "    <path d=\"M18.56 5.44l.94 2.06.94-2.06 2.06-.94-2.06-.94-.94-2.06-.94 2.06-2.06.94zm-11 1L8.5 8.5l.94-2.06 2.06-.94-2.06-.94L8.5 2.5l-.94 2.06-2.06.94zm10 10l.94 2.06.94-2.06 2.06-.94-2.06-.94-.94-2.06-.94 2.06-2.06.94z\"/><path d=\"M17.41 7.96l-1.37-1.37c-.4-.4-.92-.59-1.43-.59-.52 0-1.04.2-1.43.59L10.3 9.45l-7.72 7.72c-.78.78-.78 2.05 0 2.83L4 21.41c.39.39.9.59 1.41.59.51 0 1.02-.2 1.41-.59l7.78-7.78 2.81-2.81c.8-.78.8-2.07 0-2.86zM5.41 20L4 18.59l7.72-7.72 1.47 1.35L5.41 20z\"/>\n",
              "  </svg>\n",
              "      </button>\n",
              "      \n",
              "  <style>\n",
              "    .colab-df-container {\n",
              "      display:flex;\n",
              "      flex-wrap:wrap;\n",
              "      gap: 12px;\n",
              "    }\n",
              "\n",
              "    .colab-df-convert {\n",
              "      background-color: #E8F0FE;\n",
              "      border: none;\n",
              "      border-radius: 50%;\n",
              "      cursor: pointer;\n",
              "      display: none;\n",
              "      fill: #1967D2;\n",
              "      height: 32px;\n",
              "      padding: 0 0 0 0;\n",
              "      width: 32px;\n",
              "    }\n",
              "\n",
              "    .colab-df-convert:hover {\n",
              "      background-color: #E2EBFA;\n",
              "      box-shadow: 0px 1px 2px rgba(60, 64, 67, 0.3), 0px 1px 3px 1px rgba(60, 64, 67, 0.15);\n",
              "      fill: #174EA6;\n",
              "    }\n",
              "\n",
              "    [theme=dark] .colab-df-convert {\n",
              "      background-color: #3B4455;\n",
              "      fill: #D2E3FC;\n",
              "    }\n",
              "\n",
              "    [theme=dark] .colab-df-convert:hover {\n",
              "      background-color: #434B5C;\n",
              "      box-shadow: 0px 1px 3px 1px rgba(0, 0, 0, 0.15);\n",
              "      filter: drop-shadow(0px 1px 2px rgba(0, 0, 0, 0.3));\n",
              "      fill: #FFFFFF;\n",
              "    }\n",
              "  </style>\n",
              "\n",
              "      <script>\n",
              "        const buttonEl =\n",
              "          document.querySelector('#df-e24d644a-b62a-4e2b-9b41-0e5dd20dc4e8 button.colab-df-convert');\n",
              "        buttonEl.style.display =\n",
              "          google.colab.kernel.accessAllowed ? 'block' : 'none';\n",
              "\n",
              "        async function convertToInteractive(key) {\n",
              "          const element = document.querySelector('#df-e24d644a-b62a-4e2b-9b41-0e5dd20dc4e8');\n",
              "          const dataTable =\n",
              "            await google.colab.kernel.invokeFunction('convertToInteractive',\n",
              "                                                     [key], {});\n",
              "          if (!dataTable) return;\n",
              "\n",
              "          const docLinkHtml = 'Like what you see? Visit the ' +\n",
              "            '<a target=\"_blank\" href=https://colab.research.google.com/notebooks/data_table.ipynb>data table notebook</a>'\n",
              "            + ' to learn more about interactive tables.';\n",
              "          element.innerHTML = '';\n",
              "          dataTable['output_type'] = 'display_data';\n",
              "          await google.colab.output.renderOutput(dataTable, element);\n",
              "          const docLink = document.createElement('div');\n",
              "          docLink.innerHTML = docLinkHtml;\n",
              "          element.appendChild(docLink);\n",
              "        }\n",
              "      </script>\n",
              "    </div>\n",
              "  </div>\n",
              "  "
            ]
          },
          "metadata": {},
          "execution_count": 17
        }
      ]
    },
    {
      "cell_type": "code",
      "source": [
        "df2.to_csv('results.csv')"
      ],
      "metadata": {
        "id": "nI3aGBdSdS_c"
      },
      "execution_count": null,
      "outputs": []
    },
    {
      "cell_type": "code",
      "source": [
        "from sklearn.metrics import confusion_matrix, ConfusionMatrixDisplay"
      ],
      "metadata": {
        "id": "p9DupwdXrzae"
      },
      "execution_count": null,
      "outputs": []
    },
    {
      "cell_type": "code",
      "source": [
        "cm = confusion_matrix(y_test,prediction_linear)\n",
        "cm\n"
      ],
      "metadata": {
        "colab": {
          "base_uri": "https://localhost:8080/"
        },
        "id": "Vr1o5HXwr4Xe",
        "outputId": "1c7eb9f6-f5de-4fb1-c151-d4a324e0d2fd"
      },
      "execution_count": null,
      "outputs": [
        {
          "output_type": "execute_result",
          "data": {
            "text/plain": [
              "array([[6363,   30],\n",
              "       [  46,  275]])"
            ]
          },
          "metadata": {},
          "execution_count": 20
        }
      ]
    },
    {
      "cell_type": "code",
      "source": [
        "import seaborn as sns\n",
        "import matplotlib.pyplot as plt\n",
        "\n",
        "\n",
        "ax = sns.heatmap(cm, annot=True, cmap='Blues')\n",
        "\n",
        "ax.set_title('Confusion Matrix\\n');\n",
        "ax.set_xlabel('\\nPredicted Values')\n",
        "ax.set_ylabel('Actual Values ');\n",
        "ax.xaxis.set_ticklabels(['Neutral','Sexist'])\n",
        "ax.yaxis.set_ticklabels(['Neutral','Sexist'])\n",
        "plt.show()"
      ],
      "metadata": {
        "colab": {
          "base_uri": "https://localhost:8080/",
          "height": 509
        },
        "id": "R6UZ0W3pmGLj",
        "outputId": "e4fba43c-48b8-497e-d540-c1d17d7c0f72"
      },
      "execution_count": null,
      "outputs": [
        {
          "output_type": "display_data",
          "data": {
            "text/plain": [
              "<Figure size 640x480 with 2 Axes>"
            ],
            "image/png": "[encoded data removed]"
          },
          "metadata": {}
        }
      ]
    },
    {
      "cell_type": "code",
      "source": [
        "from sklearn.metrics import classification_report\n",
        "\n",
        "print(classification_report(y_test, prediction_linear))"
      ],
      "metadata": {
        "colab": {
          "base_uri": "https://localhost:8080/"
        },
        "id": "irRPlKSmqTwF",
        "outputId": "18aecdfc-3a13-47d2-e6db-ea183224d53c"
      },
      "execution_count": null,
      "outputs": [
        {
          "output_type": "stream",
          "name": "stdout",
          "text": [
            "              precision    recall  f1-score   support\n",
            "\n",
            "     neutral       0.99      1.00      0.99      6393\n",
            "      sexist       0.90      0.86      0.88       321\n",
            "\n",
            "    accuracy                           0.99      6714\n",
            "   macro avg       0.95      0.93      0.94      6714\n",
            "weighted avg       0.99      0.99      0.99      6714\n",
            "\n"
          ]
        }
      ]
    }
  ]
}